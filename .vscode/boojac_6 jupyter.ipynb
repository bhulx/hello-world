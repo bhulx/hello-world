{
 "cells": [
  {
   "cell_type": "code",
   "execution_count": null,
   "metadata": {},
   "outputs": [
    {
     "ename": "",
     "evalue": "",
     "output_type": "error",
     "traceback": [
      "\u001b[1;31mRunning cells with 'Python 3.11.0a6 64-bit' requires ipykernel package.\n",
      "Run the following command to install 'ipykernel' into the Python environment. \n",
      "Command: 'c:/Users/willie/AppData/Local/Programs/Python/Python311/python.exe -m pip install ipykernel -U --user --force-reinstall'"
     ]
    }
   ],
   "source": [
    " \n",
    "def main():\n",
    "    int(input( 'BOOjack, a Game, PRESS ANY NUMBER TO CONTINUE' ))\n",
    "\n",
    "        \n",
    "print( 'WELCOME TO BOOJACK' )\n",
    "\n",
    "print( 'YOUR MEMBERSHIP INCLUDED 500 CRYPTINOS')\n",
    "banc_ = 500\n",
    "start_ = int(input('WOULD LIKE TO BUY MORE: ? PRESS 99 FOR YES',  ))\n",
    "if start_ == 99 :\n",
    "    a = int(input( 'How much would you like to add ;?',  ))\n",
    "    banc_ = banc_ + a\n",
    "print( 'your balance is :', banc_)\n",
    "\n",
    "import random\n",
    "n = (random.randint(0,10))\n",
    "y = (random.randint(0,10))\n",
    "print(n)\n",
    "print(y)\n",
    "player_ = {n, y}   \n",
    "game_ =()\n",
    "print(player_)\n",
    "game_ = int(input('WOULD LIKE TO bet: ? PRESS 99 FOR YES',  ))\n",
    "if game_ == 99:\n",
    "    b = int(input('enter your bet? :'   ))\n",
    "    boojac_ = (random.randint(0,10))\n",
    "    print(boojac_)       \n",
    "    if n >= y:\n",
    "        if boojac_ >= n or boojac_ <= y:\n",
    "            print(\"you lose\")\n",
    "            banc_ = banc_ - b\n",
    "            print(' you have', banc_, ' in the bank')\n",
    "            print('do you want to play again?')\n",
    "            w = int(input('enter 0 to play again', ))\n",
    "            while w != 0:\n",
    "                r = int(input('if you want to quit, enter 99,' ))\n",
    "                if r == 99:\n",
    "                    print('shit')\n",
    "                    break\n",
    "            \n",
    "            \n",
    "                #print int(input( 'are you sure you want to quit?  PRESS 0'))\n",
    "                #if (input == 0):\n",
    "                    #print('shit')                    \n",
    "        if boojac_ < n and boojac_ > y:\n",
    "            print('you won')\n",
    "            banc_ = banc_+ b \n",
    "            print(banc_)\n",
    "            r = int(input('do you want to play again? enter 0:,'  ))\n",
    "            if (input) == 0:\n",
    "                main()\n",
    "            else:\n",
    "                print(input( 'are you sure you want to quit?  PRESS 00', ))\n",
    "                if (input == 00):\n",
    "                    print('shit')  \n",
    "        \n",
    "       \n",
    "\n",
    "    if y >= n:\n",
    "        if boojac_ >= y or boojac_ <= n:\n",
    "            print(\"you lose\")\n",
    "            banc_ = banc_ - b\n",
    "            print(' you have', banc_, ' in the bank')\n",
    "            r = input('do you want to play again? enter 0:,'  )\n",
    "            if r == 0:\n",
    "                main()\n",
    "            else:\n",
    "                r = int(input( 'are you sure you want to quit?  PRESS 00'))\n",
    "                if r == 00:\n",
    "                    print('shit')                    \n",
    "        if boojac_ > n and boojac_ < y:\n",
    "            print('you won')\n",
    "            banc_ = banc_+ b \n",
    "            print(banc_)\n",
    "            r = input('do you want to play again? enter 0:,'  )\n",
    "            if input == 0:\n",
    "                main()\n",
    "            else:\n",
    "                print(input( 'are you sure you want to quit?  PRESS 0'))\n",
    "                if (input == 0):\n",
    "                    print('shit')\n",
    "else: print( 'thank you for playing')"
   ]
  },
  {
   "cell_type": "code",
   "execution_count": null,
   "metadata": {},
   "outputs": [
    {
     "ename": "",
     "evalue": "",
     "output_type": "error",
     "traceback": [
      "\u001b[1;31mRunning cells with 'Python 3.11.0a6 64-bit' requires ipykernel package.\n",
      "Run the following command to install 'ipykernel' into the Python environment. \n",
      "Command: 'c:/Users/willie/AppData/Local/Programs/Python/Python311/python.exe -m pip install ipykernel -U --user --force-reinstall'"
     ]
    }
   ],
   "source": []
  },
  {
   "cell_type": "code",
   "execution_count": null,
   "metadata": {},
   "outputs": [
    {
     "ename": "",
     "evalue": "",
     "output_type": "error",
     "traceback": [
      "\u001b[1;31mRunning cells with 'Python 3.11.0a6 64-bit' requires ipykernel package.\n",
      "Run the following command to install 'ipykernel' into the Python environment. \n",
      "Command: 'c:/Users/willie/AppData/Local/Programs/Python/Python311/python.exe -m pip install ipykernel -U --user --force-reinstall'"
     ]
    }
   ],
   "source": []
  }
 ],
 "metadata": {
  "interpreter": {
   "hash": "be88d124ca9ba593bc8f8ece2c062d2a264c32d0663629effb6238fa60033257"
  },
  "kernelspec": {
   "display_name": "Python 3.11.0a6 64-bit",
   "language": "python",
   "name": "python3"
  },
  "language_info": {
   "name": "python",
   "version": "3.11.0"
  },
  "orig_nbformat": 4
 },
 "nbformat": 4,
 "nbformat_minor": 2
}
